{
 "cells": [
  {
   "cell_type": "code",
   "execution_count": 1,
   "metadata": {},
   "outputs": [],
   "source": [
    "from tensorflow.keras.callbacks import TensorBoard\n",
    "from sklearn.svm import LinearSVC,SVC\n",
    "from sklearn.naive_bayes import GaussianNB\n",
    "from sklearn.metrics import confusion_matrix\n",
    "from sklearn.model_selection import StratifiedKFold\n",
    "from sklearn import metrics\n",
    "import pandas as pd\n",
    "from time import time\n",
    "import numpy as np"
   ]
  },
  {
   "cell_type": "code",
   "execution_count": 2,
   "metadata": {},
   "outputs": [],
   "source": [
    "data=pd.read_csv('12_features_data.csv')\n",
    "labels=pd.read_csv('12_features_labels.csv')"
   ]
  },
  {
   "cell_type": "code",
   "execution_count": 3,
   "metadata": {},
   "outputs": [
    {
     "data": {
      "text/html": [
       "<div>\n",
       "<style scoped>\n",
       "    .dataframe tbody tr th:only-of-type {\n",
       "        vertical-align: middle;\n",
       "    }\n",
       "\n",
       "    .dataframe tbody tr th {\n",
       "        vertical-align: top;\n",
       "    }\n",
       "\n",
       "    .dataframe thead th {\n",
       "        text-align: right;\n",
       "    }\n",
       "</style>\n",
       "<table border=\"1\" class=\"dataframe\">\n",
       "  <thead>\n",
       "    <tr style=\"text-align: right;\">\n",
       "      <th></th>\n",
       "      <th>CC_area</th>\n",
       "      <th>CC_perimeter</th>\n",
       "      <th>CC_circularity</th>\n",
       "      <th>CC_length</th>\n",
       "      <th>W1</th>\n",
       "      <th>W2</th>\n",
       "      <th>W3</th>\n",
       "      <th>W4</th>\n",
       "      <th>W5</th>\n",
       "      <th>W6</th>\n",
       "      <th>W7</th>\n",
       "      <th>volume</th>\n",
       "    </tr>\n",
       "  </thead>\n",
       "  <tbody>\n",
       "    <tr>\n",
       "      <th>0</th>\n",
       "      <td>674.75</td>\n",
       "      <td>216.77</td>\n",
       "      <td>0.180444</td>\n",
       "      <td>76.5</td>\n",
       "      <td>28.25</td>\n",
       "      <td>135.25</td>\n",
       "      <td>95.50</td>\n",
       "      <td>83.50</td>\n",
       "      <td>74.75</td>\n",
       "      <td>58.25</td>\n",
       "      <td>199.25</td>\n",
       "      <td>1654001.750</td>\n",
       "    </tr>\n",
       "    <tr>\n",
       "      <th>1</th>\n",
       "      <td>620.50</td>\n",
       "      <td>196.34</td>\n",
       "      <td>0.202275</td>\n",
       "      <td>73.0</td>\n",
       "      <td>11.50</td>\n",
       "      <td>124.75</td>\n",
       "      <td>112.50</td>\n",
       "      <td>85.25</td>\n",
       "      <td>60.75</td>\n",
       "      <td>51.75</td>\n",
       "      <td>174.00</td>\n",
       "      <td>1566818.750</td>\n",
       "    </tr>\n",
       "    <tr>\n",
       "      <th>2</th>\n",
       "      <td>617.00</td>\n",
       "      <td>203.15</td>\n",
       "      <td>0.187880</td>\n",
       "      <td>74.0</td>\n",
       "      <td>22.75</td>\n",
       "      <td>160.25</td>\n",
       "      <td>92.50</td>\n",
       "      <td>71.00</td>\n",
       "      <td>60.75</td>\n",
       "      <td>43.50</td>\n",
       "      <td>166.25</td>\n",
       "      <td>1603843.625</td>\n",
       "    </tr>\n",
       "    <tr>\n",
       "      <th>3</th>\n",
       "      <td>524.50</td>\n",
       "      <td>191.32</td>\n",
       "      <td>0.180072</td>\n",
       "      <td>67.5</td>\n",
       "      <td>18.25</td>\n",
       "      <td>79.25</td>\n",
       "      <td>95.25</td>\n",
       "      <td>65.00</td>\n",
       "      <td>53.75</td>\n",
       "      <td>52.00</td>\n",
       "      <td>161.00</td>\n",
       "      <td>1434097.750</td>\n",
       "    </tr>\n",
       "    <tr>\n",
       "      <th>4</th>\n",
       "      <td>655.25</td>\n",
       "      <td>206.12</td>\n",
       "      <td>0.193817</td>\n",
       "      <td>77.0</td>\n",
       "      <td>15.00</td>\n",
       "      <td>141.00</td>\n",
       "      <td>103.25</td>\n",
       "      <td>88.50</td>\n",
       "      <td>69.75</td>\n",
       "      <td>52.50</td>\n",
       "      <td>185.25</td>\n",
       "      <td>1520944.500</td>\n",
       "    </tr>\n",
       "  </tbody>\n",
       "</table>\n",
       "</div>"
      ],
      "text/plain": [
       "    CC_area   CC_perimeter   CC_circularity   CC_length     W1      W2  \\\n",
       "0    674.75         216.77         0.180444        76.5  28.25  135.25   \n",
       "1    620.50         196.34         0.202275        73.0  11.50  124.75   \n",
       "2    617.00         203.15         0.187880        74.0  22.75  160.25   \n",
       "3    524.50         191.32         0.180072        67.5  18.25   79.25   \n",
       "4    655.25         206.12         0.193817        77.0  15.00  141.00   \n",
       "\n",
       "       W3     W4     W5     W6      W7       volume  \n",
       "0   95.50  83.50  74.75  58.25  199.25  1654001.750  \n",
       "1  112.50  85.25  60.75  51.75  174.00  1566818.750  \n",
       "2   92.50  71.00  60.75  43.50  166.25  1603843.625  \n",
       "3   95.25  65.00  53.75  52.00  161.00  1434097.750  \n",
       "4  103.25  88.50  69.75  52.50  185.25  1520944.500  "
      ]
     },
     "execution_count": 3,
     "metadata": {},
     "output_type": "execute_result"
    }
   ],
   "source": [
    "del data['Unnamed: 0']\n",
    "data.head()"
   ]
  },
  {
   "cell_type": "code",
   "execution_count": 4,
   "metadata": {},
   "outputs": [
    {
     "data": {
      "text/html": [
       "<div>\n",
       "<style scoped>\n",
       "    .dataframe tbody tr th:only-of-type {\n",
       "        vertical-align: middle;\n",
       "    }\n",
       "\n",
       "    .dataframe tbody tr th {\n",
       "        vertical-align: top;\n",
       "    }\n",
       "\n",
       "    .dataframe thead th {\n",
       "        text-align: right;\n",
       "    }\n",
       "</style>\n",
       "<table border=\"1\" class=\"dataframe\">\n",
       "  <thead>\n",
       "    <tr style=\"text-align: right;\">\n",
       "      <th></th>\n",
       "      <th>label</th>\n",
       "    </tr>\n",
       "  </thead>\n",
       "  <tbody>\n",
       "    <tr>\n",
       "      <th>0</th>\n",
       "      <td>1</td>\n",
       "    </tr>\n",
       "    <tr>\n",
       "      <th>1</th>\n",
       "      <td>1</td>\n",
       "    </tr>\n",
       "    <tr>\n",
       "      <th>2</th>\n",
       "      <td>1</td>\n",
       "    </tr>\n",
       "    <tr>\n",
       "      <th>3</th>\n",
       "      <td>1</td>\n",
       "    </tr>\n",
       "    <tr>\n",
       "      <th>4</th>\n",
       "      <td>1</td>\n",
       "    </tr>\n",
       "  </tbody>\n",
       "</table>\n",
       "</div>"
      ],
      "text/plain": [
       "   label\n",
       "0      1\n",
       "1      1\n",
       "2      1\n",
       "3      1\n",
       "4      1"
      ]
     },
     "execution_count": 4,
     "metadata": {},
     "output_type": "execute_result"
    }
   ],
   "source": [
    "del labels['Unnamed: 0']\n",
    "labels.head()"
   ]
  },
  {
   "cell_type": "code",
   "execution_count": 5,
   "metadata": {},
   "outputs": [
    {
     "name": "stdout",
     "output_type": "stream",
     "text": [
      "(1100, 12) (1100, 1)\n"
     ]
    }
   ],
   "source": [
    "X=np.array(data)\n",
    "Y=np.array(labels)\n",
    "print(X.shape,Y.shape)"
   ]
  },
  {
   "cell_type": "code",
   "execution_count": 8,
   "metadata": {},
   "outputs": [
    {
     "name": "stdout",
     "output_type": "stream",
     "text": [
      "Running Fold 1 / 10\n",
      "[0.5339366515837104]\n",
      "Running Fold 2 / 10\n",
      "[0.5339366515837104, 0.5136363636363637]\n",
      "Running Fold 3 / 10\n",
      "[0.5339366515837104, 0.5136363636363637, 0.5454545454545454]\n",
      "Running Fold 4 / 10\n",
      "[0.5339366515837104, 0.5136363636363637, 0.5454545454545454, 0.45454545454545453]\n",
      "Running Fold 5 / 10\n",
      "[0.5339366515837104, 0.5136363636363637, 0.5454545454545454, 0.45454545454545453, 0.5662100456621004]\n"
     ]
    },
    {
     "name": "stderr",
     "output_type": "stream",
     "text": [
      "/home/ashok/anaconda3/lib/python3.7/site-packages/sklearn/utils/validation.py:724: DataConversionWarning: A column-vector y was passed when a 1d array was expected. Please change the shape of y to (n_samples, ), for example using ravel().\n",
      "  y = column_or_1d(y, warn=True)\n",
      "/home/ashok/anaconda3/lib/python3.7/site-packages/sklearn/utils/validation.py:724: DataConversionWarning: A column-vector y was passed when a 1d array was expected. Please change the shape of y to (n_samples, ), for example using ravel().\n",
      "  y = column_or_1d(y, warn=True)\n",
      "/home/ashok/anaconda3/lib/python3.7/site-packages/sklearn/utils/validation.py:724: DataConversionWarning: A column-vector y was passed when a 1d array was expected. Please change the shape of y to (n_samples, ), for example using ravel().\n",
      "  y = column_or_1d(y, warn=True)\n",
      "/home/ashok/anaconda3/lib/python3.7/site-packages/sklearn/utils/validation.py:724: DataConversionWarning: A column-vector y was passed when a 1d array was expected. Please change the shape of y to (n_samples, ), for example using ravel().\n",
      "  y = column_or_1d(y, warn=True)\n",
      "/home/ashok/anaconda3/lib/python3.7/site-packages/sklearn/utils/validation.py:724: DataConversionWarning: A column-vector y was passed when a 1d array was expected. Please change the shape of y to (n_samples, ), for example using ravel().\n",
      "  y = column_or_1d(y, warn=True)\n"
     ]
    }
   ],
   "source": [
    "n_folds=10\n",
    "i=0\n",
    "scores={}\n",
    "scores_list=[]\n",
    "skf =StratifiedKFold(5)\n",
    "for i, (train,test) in enumerate(skf.split(X, Y)):\n",
    "            #tensorboard=TensorBoard(log_dir='./logs/Exp1/fold_{}'.format(i))\n",
    "            print(\"Running Fold\", i+1, \"/\", n_folds)\n",
    "            x_train=np.array([X[i] for i in train])\n",
    "            y_train=np.array([Y[i] for i in train])\n",
    "            x_test=np.array([X[i] for i in test])\n",
    "            y_test=np.array([Y[i] for i in test])\n",
    "            #Create a Gaussian Classifier\n",
    "            model = GaussianNB()\n",
    "            # Train the model using the training sets\n",
    "            model.fit(x_train,y_train)\n",
    "            y_pred=model.predict(x_test)\n",
    "            scores_list.append(metrics.accuracy_score(y_test,y_pred))\n",
    "            print(scores_list)"
   ]
  },
  {
   "cell_type": "code",
   "execution_count": 9,
   "metadata": {},
   "outputs": [
    {
     "data": {
      "text/plain": [
       "0.5227566121764349"
      ]
     },
     "execution_count": 9,
     "metadata": {},
     "output_type": "execute_result"
    }
   ],
   "source": [
    "acc=np.sum(np.array(scores_list))/5\n",
    "acc"
   ]
  },
  {
   "cell_type": "code",
   "execution_count": 10,
   "metadata": {},
   "outputs": [
    {
     "data": {
      "text/html": [
       "<div>\n",
       "<style scoped>\n",
       "    .dataframe tbody tr th:only-of-type {\n",
       "        vertical-align: middle;\n",
       "    }\n",
       "\n",
       "    .dataframe tbody tr th {\n",
       "        vertical-align: top;\n",
       "    }\n",
       "\n",
       "    .dataframe thead th {\n",
       "        text-align: right;\n",
       "    }\n",
       "</style>\n",
       "<table border=\"1\" class=\"dataframe\">\n",
       "  <thead>\n",
       "    <tr style=\"text-align: right;\">\n",
       "      <th></th>\n",
       "      <th>Accuracy</th>\n",
       "    </tr>\n",
       "  </thead>\n",
       "  <tbody>\n",
       "    <tr>\n",
       "      <th>0</th>\n",
       "      <td>0.533937</td>\n",
       "    </tr>\n",
       "    <tr>\n",
       "      <th>1</th>\n",
       "      <td>0.513636</td>\n",
       "    </tr>\n",
       "    <tr>\n",
       "      <th>2</th>\n",
       "      <td>0.545455</td>\n",
       "    </tr>\n",
       "    <tr>\n",
       "      <th>3</th>\n",
       "      <td>0.454545</td>\n",
       "    </tr>\n",
       "    <tr>\n",
       "      <th>4</th>\n",
       "      <td>0.566210</td>\n",
       "    </tr>\n",
       "  </tbody>\n",
       "</table>\n",
       "</div>"
      ],
      "text/plain": [
       "   Accuracy\n",
       "0  0.533937\n",
       "1  0.513636\n",
       "2  0.545455\n",
       "3  0.454545\n",
       "4  0.566210"
      ]
     },
     "execution_count": 10,
     "metadata": {},
     "output_type": "execute_result"
    }
   ],
   "source": [
    "score=pd.DataFrame(scores_list,columns=['Accuracy'])\n",
    "score"
   ]
  },
  {
   "cell_type": "code",
   "execution_count": 11,
   "metadata": {},
   "outputs": [],
   "source": [
    "score.to_csv('NB.csv')"
   ]
  },
  {
   "cell_type": "code",
   "execution_count": null,
   "metadata": {},
   "outputs": [],
   "source": []
  }
 ],
 "metadata": {
  "kernelspec": {
   "display_name": "Python 3",
   "language": "python",
   "name": "python3"
  },
  "language_info": {
   "codemirror_mode": {
    "name": "ipython",
    "version": 3
   },
   "file_extension": ".py",
   "mimetype": "text/x-python",
   "name": "python",
   "nbconvert_exporter": "python",
   "pygments_lexer": "ipython3",
   "version": "3.7.3"
  }
 },
 "nbformat": 4,
 "nbformat_minor": 2
}
